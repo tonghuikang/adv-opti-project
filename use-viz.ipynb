{
 "cells": [
  {
   "cell_type": "code",
   "execution_count": null,
   "id": "altered-psychiatry",
   "metadata": {},
   "outputs": [],
   "source": [
    "import datetime\n",
    "from viz import *\n",
    "\n",
    "datestring = datetime.datetime.now().strftime(\"%Y-%m-%dT%H-%M-%SZ\")"
   ]
  },
  {
   "cell_type": "code",
   "execution_count": null,
   "id": "latin-filling",
   "metadata": {},
   "outputs": [],
   "source": [
    "datestring"
   ]
  },
  {
   "cell_type": "code",
   "execution_count": null,
   "id": "resident-picking",
   "metadata": {},
   "outputs": [],
   "source": [
    "results = '''\n",
    "X[1,26,20] 1\n",
    "X[2,26,78] 1\n",
    "X[3,26,10] 1\n",
    "X[4,26,33] 1\n",
    "X[5,26,4] 1\n",
    "X[6,26,28] 1\n",
    "X[7,33,20] 1\n",
    "X[8,33,53] 1\n",
    "X[9,33,87] 1\n",
    "X[10,32,9] 1\n",
    "X[11,32,36] 1\n",
    "X[12,32,1] 1\n",
    "X[13,32,28] 1\n",
    "X[27,20,20] 1\n",
    "X[28,20,44] 1\n",
    "X[29,17,6] 1\n",
    "X[30,17,28] 1\n",
    "X[31,12,49] 1\n",
    "X[32,32,20] 1\n",
    "X[33,6,78] 1\n",
    "X[34,6,1] 1\n",
    "X[35,6,49] 1\n",
    "X[36,1,28] 1\n",
    "X[37,12,1] 1\n",
    "X[38,12,28] 1\n",
    "X[39,17,10] 1\n",
    "X[40,17,32] 1\n",
    "X[54,17,1] 1\n",
    "X[55,17,44] 1\n",
    "X[56,21,20] 1\n",
    "X[57,21,33] 1\n",
    "'''.strip()\n",
    "results = [list(map(int,result.split(\"]\")[0].split(\"[\")[1].split(','))) for result in results.split('\\n')]\n",
    "results # job_ix, venue_ix, time_ix"
   ]
  },
  {
   "cell_type": "code",
   "execution_count": null,
   "id": "moved-spice",
   "metadata": {},
   "outputs": [],
   "source": [
    "df_output = parse_results(results)\n",
    "organized_timetable = organize_timetable(df_output)\n",
    "plot_organised_timetable(organized_timetable, show_fig=True)"
   ]
  },
  {
   "cell_type": "code",
   "execution_count": null,
   "id": "aggregate-prospect",
   "metadata": {},
   "outputs": [],
   "source": [
    "# analyse_related_features(df_output, folder_output=\"./output-sample-usage-{}\".format(datestring))"
   ]
  },
  {
   "cell_type": "code",
   "execution_count": null,
   "id": "vietnamese-satin",
   "metadata": {},
   "outputs": [],
   "source": [
    "analyse_related_features(df_output, folder_output=\"./produced-timetable\", \n",
    "                         title_prefix=\"Produced Timetable - \")"
   ]
  },
  {
   "cell_type": "code",
   "execution_count": null,
   "id": "modern-screening",
   "metadata": {},
   "outputs": [],
   "source": []
  }
 ],
 "metadata": {
  "kernelspec": {
   "display_name": "Python [conda env:opti] *",
   "language": "python",
   "name": "conda-env-opti-py"
  },
  "language_info": {
   "codemirror_mode": {
    "name": "ipython",
    "version": 3
   },
   "file_extension": ".py",
   "mimetype": "text/x-python",
   "name": "python",
   "nbconvert_exporter": "python",
   "pygments_lexer": "ipython3",
   "version": "3.7.9"
  }
 },
 "nbformat": 4,
 "nbformat_minor": 5
}
