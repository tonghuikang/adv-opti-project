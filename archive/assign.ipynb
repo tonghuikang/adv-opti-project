{
 "cells": [
  {
   "cell_type": "code",
   "execution_count": 1,
   "metadata": {},
   "outputs": [],
   "source": [
    "import pandas as pd\n",
    "\n",
    "import matplotlib.pyplot as plt\n",
    "import matplotlib.patches as patches\n",
    "import matplotlib.collections as mc"
   ]
  },
  {
   "cell_type": "markdown",
   "metadata": {},
   "source": [
    "# Parse enrolment data"
   ]
  },
  {
   "cell_type": "code",
   "execution_count": 2,
   "metadata": {},
   "outputs": [],
   "source": [
    "term_5_df = pd.read_csv(\"./term-5-enrollment.csv\")\n",
    "term_7_df = pd.read_csv(\"./term-7-enrollment.csv\")"
   ]
  },
  {
   "cell_type": "code",
   "execution_count": 3,
   "metadata": {},
   "outputs": [],
   "source": [
    "combination_classes = {}\n",
    "combination_enrollment = {}\n",
    "\n",
    "for combi_name, _, enrollment, *classes in term_5_df.values:\n",
    "    combination_classes[combi_name] = classes\n",
    "    combination_enrollment[combi_name] = enrollment\n",
    "    \n",
    "for combi_name, _, enrollment, *classes in term_7_df.values:\n",
    "    combination_classes[combi_name] = classes\n",
    "    combination_enrollment[combi_name] = enrollment"
   ]
  },
  {
   "cell_type": "code",
   "execution_count": 4,
   "metadata": {},
   "outputs": [
    {
     "data": {
      "text/plain": [
       "{'general-1': [40.004, 40.012, 40.014],\n",
       " 'general-2': [40.004, 40.012, 40.014],\n",
       " 'baor-1': [40.302, 40.319, 1.104],\n",
       " 'baor-2': [40.302, 40.319, 40.24],\n",
       " 'finance-1': [40.24, 40.323, 40.319],\n",
       " 'finance-2': [40.24, 40.323, 40.302],\n",
       " 'aviation': [1.107, 40.321, 40.319]}"
      ]
     },
     "execution_count": 4,
     "metadata": {},
     "output_type": "execute_result"
    }
   ],
   "source": [
    "combination_classes"
   ]
  },
  {
   "cell_type": "code",
   "execution_count": 5,
   "metadata": {},
   "outputs": [
    {
     "data": {
      "text/plain": [
       "{'general-1': 50,\n",
       " 'general-2': 50,\n",
       " 'baor-1': 20,\n",
       " 'baor-2': 20,\n",
       " 'finance-1': 20,\n",
       " 'finance-2': 20,\n",
       " 'aviation': 20}"
      ]
     },
     "execution_count": 5,
     "metadata": {},
     "output_type": "execute_result"
    }
   ],
   "source": [
    "combination_enrollment"
   ]
  },
  {
   "cell_type": "markdown",
   "metadata": {},
   "source": [
    "# Extract timetable\n",
    "\n",
    "I am supposed to identify the classes based on etc."
   ]
  },
  {
   "cell_type": "code",
   "execution_count": 6,
   "metadata": {},
   "outputs": [],
   "source": [
    "# for subject_code, class_code, venue, session, day_index, time_index, proc_time in \\\n",
    "#     df[[\"subject_code\", \"class_code\", \"venue\", \"session\", \"day_index\", \"time_index\", \"proc_time\"]].values:\n",
    "#     pass"
   ]
  },
  {
   "cell_type": "code",
   "execution_count": 7,
   "metadata": {},
   "outputs": [],
   "source": [
    "# given the timetable and student course combination, we need to determine which student take which course"
   ]
  },
  {
   "cell_type": "code",
   "execution_count": null,
   "metadata": {},
   "outputs": [],
   "source": []
  }
 ],
 "metadata": {
  "kernelspec": {
   "display_name": "Python 3",
   "language": "python",
   "name": "python3"
  },
  "language_info": {
   "codemirror_mode": {
    "name": "ipython",
    "version": 3
   },
   "file_extension": ".py",
   "mimetype": "text/x-python",
   "name": "python",
   "nbconvert_exporter": "python",
   "pygments_lexer": "ipython3",
   "version": "3.7.9"
  }
 },
 "nbformat": 4,
 "nbformat_minor": 4
}
