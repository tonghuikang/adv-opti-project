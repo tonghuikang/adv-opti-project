{
 "cells": [
  {
   "cell_type": "code",
   "execution_count": 24,
   "id": "working-cooperative",
   "metadata": {},
   "outputs": [],
   "source": [
    "import glob"
   ]
  },
  {
   "cell_type": "code",
   "execution_count": 25,
   "id": "frank-arkansas",
   "metadata": {},
   "outputs": [],
   "source": [
    "info = '''\n",
    "## Combined Timetable\n",
    "all\n",
    "## Complete Term 5 timetable\n",
    "comb-ESD-T5\n",
    "## Complete Term 7 timetable\n",
    "comb-ESD-T7\n",
    "## Term 5 timetable by cohort\n",
    "comb-ESD-T5-cohort-1\n",
    "comb-ESD-T5-cohort-2\n",
    "## Term 7 timetable by track\n",
    "comb-ESD-T7-track-track_avi\n",
    "comb-ESD-T7-track-track_ba\n",
    "comb-ESD-T7-track-track_fin\n",
    "comb-ESD-T7-track-track_scl\n",
    "comb-ESD-T7-track-track_uis\n",
    "## Timetable by instructor\n",
    "instructor-(TAE) KC\n",
    "instructor-(TAE) LC\n",
    "instructor-BD\n",
    "instructor-DSR\n",
    "instructor-LS\n",
    "instructor-NAR\n",
    "instructor-PLJ\n",
    "instructor-SS.png\n",
    "instructor-WX.png\n",
    "## Timetable by subject\n",
    "subject-01.104\n",
    "subject-01.107\n",
    "subject-40.004\n",
    "subject-40.012\n",
    "subject-40.014\n",
    "subject-40.242\n",
    "subject-40.302\n",
    "subject-40.319\n",
    "subject-40.321\n",
    "subject-40.323\n",
    "'''"
   ]
  },
  {
   "cell_type": "code",
   "execution_count": 26,
   "id": "organic-distinction",
   "metadata": {},
   "outputs": [],
   "source": [
    "table = '''\n",
    "| <!-- -->    | <!-- -->    |\n",
    "| ----------------------------------- | ------------ |\n",
    "| Timetable given for optimisation ![pic](./first-half/given-timetable/{}.png) | Variant 1 ![pic](./task-3/variant-1/{}.png) |\n",
    "| Combined objectives              ![pic](./task-3/combined/{}.png)            | Variant 2 ![pic](./task-3/variant-2/{}.png) |\n",
    "|                                                                              | Variant 3 ![pic](./task-3/variant-3/{}.png) |\n",
    "'''"
   ]
  },
  {
   "cell_type": "code",
   "execution_count": 27,
   "id": "automatic-edwards",
   "metadata": {},
   "outputs": [],
   "source": [
    "compiled = []\n",
    "for line in info.strip().split(\"\\n\"):\n",
    "    if line[0] == \"#\":\n",
    "        compiled.append(line)\n",
    "    else:\n",
    "        compiled.append(table.format(*[line]*5))    "
   ]
  },
  {
   "cell_type": "code",
   "execution_count": 28,
   "id": "efficient-tender",
   "metadata": {},
   "outputs": [],
   "source": [
    "with open(\"viz-task-3-raw.md\", \"w\") as f: \n",
    "    f.writelines(compiled)\n"
   ]
  },
  {
   "cell_type": "code",
   "execution_count": 23,
   "id": "endless-spider",
   "metadata": {},
   "outputs": [],
   "source": [
    "# glob.glob(\"task-3/variant-1/*\")"
   ]
  },
  {
   "cell_type": "code",
   "execution_count": null,
   "id": "assumed-germany",
   "metadata": {},
   "outputs": [],
   "source": []
  }
 ],
 "metadata": {
  "kernelspec": {
   "display_name": "Python [conda env:opti] *",
   "language": "python",
   "name": "conda-env-opti-py"
  },
  "language_info": {
   "codemirror_mode": {
    "name": "ipython",
    "version": 3
   },
   "file_extension": ".py",
   "mimetype": "text/x-python",
   "name": "python",
   "nbconvert_exporter": "python",
   "pygments_lexer": "ipython3",
   "version": "3.7.9"
  }
 },
 "nbformat": 4,
 "nbformat_minor": 5
}
