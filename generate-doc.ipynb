{
 "cells": [
  {
   "cell_type": "code",
   "execution_count": 1,
   "id": "trying-catch",
   "metadata": {},
   "outputs": [],
   "source": [
    "info = '''\n",
    "## Combined Timetable\n",
    "all\n",
    "## Complete Term 5 timetable\n",
    "comb-ESD-T5\n",
    "## Complete Term 7 timetable\n",
    "comb-ESD-T7\n",
    "## Term 5 timetable by cohort\n",
    "comb-ESD-T5-cohort-1\n",
    "comb-ESD-T5-cohort-2\n",
    "## Term 7 timetable by track\n",
    "comb-ESD-T7-track-track_avi\n",
    "comb-ESD-T7-track-track_ba\n",
    "comb-ESD-T7-track-track_fin\n",
    "comb-ESD-T7-track-track_scl\n",
    "comb-ESD-T7-track-track_uis\n",
    "## Timetable by instructor\n",
    "instructor-(TAE) KC\n",
    "instructor-(TAE) LC\n",
    "instructor-BD\n",
    "instructor-DSR\n",
    "instructor-LS\n",
    "instructor-NAR\n",
    "instructor-PLJ\n",
    "instructor-SS.png\n",
    "instructor-WX.png\n",
    "## Timetable by subject\n",
    "subject-01.104\n",
    "subject-01.107\n",
    "subject-40.004\n",
    "subject-40.012\n",
    "subject-40.014\n",
    "subject-40.242\n",
    "subject-40.302\n",
    "subject-40.319\n",
    "subject-40.321\n",
    "subject-40.323\n",
    "'''"
   ]
  },
  {
   "cell_type": "code",
   "execution_count": 2,
   "id": "brutal-startup",
   "metadata": {},
   "outputs": [],
   "source": [
    "table = '''\n",
    "\n",
    "| <!-- -->    | <!-- -->    |\n",
    "| ----------------------------------- | ------------ |\n",
    "| Timetable given for optimisation ![pic](./first-half/given-timetable/{}.png) | Variant 1 ![pic](./task-3/variant-1/{}.png) |\n",
    "| Combined objectives              ![pic](./task-3/combined/{}.png)            | Variant 2 ![pic](./task-3/variant-2/{}.png) |\n",
    "|                                                                              | Variant 3 ![pic](./task-3/variant-3/{}.png) |\n",
    "\n",
    "<div style=\"page-break-after: always;\"></div>\n",
    "\n",
    "'''"
   ]
  },
  {
   "cell_type": "code",
   "execution_count": 3,
   "id": "centered-bloom",
   "metadata": {},
   "outputs": [],
   "source": [
    "preamble = '''\n",
    "This appendix contains the timetable visualisation for Team Kutosotase\n",
    "\n",
    "In each page (this webpage is print-friendly), there are five timetables.\n",
    "  - The original timetable\n",
    "  - The timetable with variant 1\n",
    "  - The timetable with variant 2\n",
    "  - The timetable with variant 3\n",
    "  - The timetable combining the variants\n",
    "\n",
    "We present different views of the timetable for the first half.\n",
    "  - ESD Term 5 and ESD Term 7 courses\n",
    "  - Courses taken by each ESD Term 5 modules\n",
    "  - ESD Term 7 courses, with core modules highlighted for each track\n",
    "  - Each course involved in the optimisation\n",
    "  - Each instructor involved in the optimisation\n",
    "\n",
    "The color represents a track or a term 5 cohort\n",
    "| Color | Group | Comments |\n",
    "| ----- | ----- | -------- |\n",
    "| yellow | T5 Cohort 1  |  |\n",
    "| orange | T5 Cohort 2  |  |\n",
    "| green  | Finance      |  |\n",
    "| blue   | Aviation     | also Urban Infrastructure |\n",
    "| red    | BA/OR        | also Supply Chain         |\n",
    "\n",
    "As the requirements for Supply Chain track is a subset of BA/OR track, \\\n",
    "and the requirements for Urban Infrastructure track is a subset of the Aviation track, \\\n",
    "we do not assign a color for Supply Chain and Urban Infrastructure track.\n",
    "\n",
    "<div style=\"page-break-after: always;\"></div>\n",
    "\n",
    "Table of contents\n",
    "\n",
    "* auto-gen TOC:\n",
    "{:toc}\n",
    "\n",
    "<div style=\"page-break-after: always;\"></div>\n",
    "'''"
   ]
  },
  {
   "cell_type": "code",
   "execution_count": 4,
   "id": "terminal-missile",
   "metadata": {},
   "outputs": [],
   "source": [
    "compiled = [preamble]\n",
    "for line in info.strip().split(\"\\n\"):\n",
    "    if line[0] == \"#\":\n",
    "        compiled.append(\"\")\n",
    "        compiled.append(line)\n",
    "        compiled.append(\"\")\n",
    "    else:\n",
    "        compiled.append(table.format(*[line]*5)) "
   ]
  },
  {
   "cell_type": "code",
   "execution_count": 5,
   "id": "senior-biography",
   "metadata": {},
   "outputs": [],
   "source": [
    "with open(\"viz-task-3.md\", \"w\") as f: \n",
    "    f.writelines(compiled)"
   ]
  },
  {
   "cell_type": "code",
   "execution_count": null,
   "id": "assumed-germany",
   "metadata": {},
   "outputs": [],
   "source": []
  }
 ],
 "metadata": {
  "kernelspec": {
   "display_name": "Python [conda env:opti] *",
   "language": "python",
   "name": "conda-env-opti-py"
  },
  "language_info": {
   "codemirror_mode": {
    "name": "ipython",
    "version": 3
   },
   "file_extension": ".py",
   "mimetype": "text/x-python",
   "name": "python",
   "nbconvert_exporter": "python",
   "pygments_lexer": "ipython3",
   "version": "3.7.9"
  }
 },
 "nbformat": 4,
 "nbformat_minor": 5
}
